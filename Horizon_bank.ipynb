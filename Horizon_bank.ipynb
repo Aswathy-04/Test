{
  "nbformat": 4,
  "nbformat_minor": 0,
  "metadata": {
    "colab": {
      "provenance": [],
      "authorship_tag": "ABX9TyNCzOY7dPew4eaqRdivcF1m",
      "include_colab_link": true
    },
    "kernelspec": {
      "name": "python3",
      "display_name": "Python 3"
    },
    "language_info": {
      "name": "python"
    }
  },
  "cells": [
    {
      "cell_type": "markdown",
      "metadata": {
        "id": "view-in-github",
        "colab_type": "text"
      },
      "source": [
        "<a href=\"https://colab.research.google.com/github/Aswathy-04/Test/blob/main/Horizon_bank.ipynb\" target=\"_parent\"><img src=\"https://colab.research.google.com/assets/colab-badge.svg\" alt=\"Open In Colab\"/></a>"
      ]
    },
    {
      "cell_type": "markdown",
      "source": [
        "# **Problem Statement:**\n",
        "\n",
        "Develop an interactive bank application that allows customers of Horizon Bank to create and manage their bank accounts seamlessly. The application should provide functionalities for both new and existing customers, ensuring a user-friendly experience while maintaining secure operations."
      ],
      "metadata": {
        "id": "mIts3wrdheNk"
      }
    },
    {
      "cell_type": "code",
      "execution_count": 1,
      "metadata": {
        "id": "4JD_ZkTS4IbW"
      },
      "outputs": [],
      "source": [
        "import random\n",
        "import json"
      ]
    },
    {
      "cell_type": "code",
      "source": [
        "# Initialize the customer data dictionary\n",
        "cust_data = {}\n",
        "\n",
        "# Define the list of required user attributes\n",
        "new_user_attributes = ['name', 'address', 'phone num', 'govt id', 'amount', 'password']"
      ],
      "metadata": {
        "id": "eIqbvgu3go_W"
      },
      "execution_count": 2,
      "outputs": []
    },
    {
      "cell_type": "code",
      "source": [
        "# Function to create a new user\n",
        "def new_user():\n",
        "    acc_num = random.randint(10000, 100000)\n",
        "    while acc_num in cust_data.keys():\n",
        "        acc_num = random.randint(10000, 100000)\n",
        "\n",
        "    new_user_inputs = []\n",
        "\n",
        "    for attribute in new_user_attributes[:-1]:  # Exclude 'password' for now\n",
        "        user_input = input(f\"Enter {attribute}:\\n\")\n",
        "        if attribute == 'amount':\n",
        "            new_user_inputs.append(int(user_input))\n",
        "        else:\n",
        "            new_user_inputs.append(user_input)\n",
        "\n",
        "    password = input(\"Create a password for your account:\\n\")\n",
        "    new_user_inputs.append(password)\n",
        "\n",
        "    cust_data[acc_num] = dict(zip(new_user_attributes, new_user_inputs))\n",
        "    print(f'Your account has been successfully created! Account Number: {acc_num}. Don\\'t lose it!')"
      ],
      "metadata": {
        "id": "IuMK8FgKgmjm"
      },
      "execution_count": 3,
      "outputs": []
    },
    {
      "cell_type": "code",
      "source": [
        "# Function to load customer data from a file\n",
        "def load_data():\n",
        "    global cust_data\n",
        "    try:\n",
        "        with open('cust_data.json', 'r') as f:\n",
        "            cust_data = json.load(f)\n",
        "    except FileNotFoundError:\n",
        "        print(\"No existing customer data found. Starting fresh.\")"
      ],
      "metadata": {
        "id": "GF2e7jbfgh00"
      },
      "execution_count": 4,
      "outputs": []
    },
    {
      "cell_type": "code",
      "source": [
        "# Function to save customer data to a file\n",
        "def save_data():\n",
        "    with open('cust_data.json', 'w') as f:\n",
        "        json.dump(cust_data, f)\n",
        "    print(\"Customer data saved successfully.\")"
      ],
      "metadata": {
        "id": "ZMzr8Jomgeyz"
      },
      "execution_count": 5,
      "outputs": []
    },
    {
      "cell_type": "code",
      "source": [
        "# Function for existing users to manage their account\n",
        "def existing_user():\n",
        "    acc_num = int(input('Enter your existing account number:\\n'))\n",
        "    while acc_num not in cust_data:\n",
        "        acc_num = int(input(\"Not found. Please enter your correct account number:\\n\"))\n",
        "\n",
        "    password = input(\"Enter your password:\\n\")\n",
        "    if password != cust_data[acc_num]['password']:\n",
        "        print(\"Incorrect password.\")\n",
        "        return\n",
        "\n",
        "    print(f'Welcome {cust_data[acc_num][\"name\"]}!')\n",
        "    print(\"Enter 1 to check your balance.\\nEnter 2 to withdraw an amount.\\nEnter 3 to deposit an amount.\\nEnter 4 to view transaction history.\\nEnter 5 to calculate interest.\\nEnter 6 to close your account.\")\n",
        "\n",
        "    user_choice = input()\n",
        "    while user_choice not in ['1', '2', '3', '4', '5', '6']:\n",
        "        print(\"Invalid input!\")\n",
        "        user_choice = input(\"Choose a valid option: \")\n",
        "\n",
        "    if user_choice == '1':\n",
        "        print('Available balance:', cust_data[acc_num]['amount'])\n",
        "    elif user_choice == '2':\n",
        "        amt = int(input('Enter an amount to withdraw: '))\n",
        "        if amt > cust_data[acc_num]['amount']:\n",
        "            print('Insufficient balance.')\n",
        "        else:\n",
        "            cust_data[acc_num]['amount'] -= amt\n",
        "            print('Withdrawal successful. New balance:', cust_data[acc_num]['amount'])\n",
        "            log_transaction(acc_num, \"Withdraw\", amt)\n",
        "    elif user_choice == '3':\n",
        "        amt = int(input('Enter an amount to deposit: '))\n",
        "        cust_data[acc_num]['amount'] += amt\n",
        "        print('Deposit successful. New balance:', cust_data[acc_num]['amount'])\n",
        "        log_transaction(acc_num, \"Deposit\", amt)\n",
        "    elif user_choice == '4':\n",
        "        show_transactions(acc_num)\n",
        "    elif user_choice == '5':\n",
        "        calculate_interest(acc_num)\n",
        "    elif user_choice == '6':\n",
        "        close_account(acc_num)"
      ],
      "metadata": {
        "id": "kF6LXdFyga7I"
      },
      "execution_count": 6,
      "outputs": []
    },
    {
      "cell_type": "code",
      "source": [
        "# Function to log transactions\n",
        "def log_transaction(acc_num, transaction_type, amount):\n",
        "    if 'transactions' not in cust_data[acc_num]:\n",
        "        cust_data[acc_num]['transactions'] = []\n",
        "    cust_data[acc_num]['transactions'].append({\"type\": transaction_type, \"amount\": amount})"
      ],
      "metadata": {
        "id": "poXOrmohgNkR"
      },
      "execution_count": 7,
      "outputs": []
    },
    {
      "cell_type": "code",
      "source": [
        "# Function to show transaction history\n",
        "def show_transactions(acc_num):\n",
        "    if 'transactions' in cust_data[acc_num]:\n",
        "        print(\"Transaction History:\")\n",
        "        for transaction in cust_data[acc_num]['transactions']:\n",
        "            print(f\"{transaction['type']}: {transaction['amount']}\")\n",
        "    else:\n",
        "        print(\"No transactions found.\")\n"
      ],
      "metadata": {
        "id": "eLHcFnNPgLPW"
      },
      "execution_count": 8,
      "outputs": []
    },
    {
      "cell_type": "code",
      "source": [],
      "metadata": {
        "id": "t1XrbsISgLqQ"
      },
      "execution_count": null,
      "outputs": []
    },
    {
      "cell_type": "code",
      "source": [
        "# Function to calculate interest\n",
        "def calculate_interest(acc_num, interest_rate=0.03):\n",
        "    interest = cust_data[acc_num]['amount'] * interest_rate\n",
        "    print(f\"Interest accrued: {interest}. New balance will be: {cust_data[acc_num]['amount'] + interest}\")"
      ],
      "metadata": {
        "id": "pXdUDf5RgIBH"
      },
      "execution_count": 9,
      "outputs": []
    },
    {
      "cell_type": "code",
      "source": [
        "# Function to close an account\n",
        "def close_account(acc_num):\n",
        "    confirmation = input(\"Are you sure you want to close your account? (yes/no)\\n\")\n",
        "    if confirmation.lower() == 'yes':\n",
        "        del cust_data[acc_num]\n",
        "        print(\"Account closed successfully.\")\n",
        "    else:\n",
        "        print(\"Account closure canceled.\")"
      ],
      "metadata": {
        "id": "bX7kA-QVgE1P"
      },
      "execution_count": 10,
      "outputs": []
    },
    {
      "cell_type": "code",
      "source": [
        "# Infinite loop to run the application\n",
        "load_data()\n",
        "while True:\n",
        "    print(\"Welcome to the Horizon Bank!\")\n",
        "    print(\"Enter 1 if you are a new customer.\\nEnter 2 if you are an existing customer.\\nEnter 3 to terminate the application.\")\n",
        "    user_choice = input()\n",
        "\n",
        "    while user_choice not in ['1', '2', '3']:\n",
        "        print(\"Invalid input!\")\n",
        "        user_choice = input(\"Choose a valid option: \")\n",
        "\n",
        "    if user_choice == '1':\n",
        "        new_user()\n",
        "        save_data()\n",
        "    elif user_choice == '2':\n",
        "        existing_user()\n",
        "    elif user_choice == '3':\n",
        "        print(\"Thank you for banking with us!\")\n",
        "        save_data()\n",
        "        break"
      ],
      "metadata": {
        "colab": {
          "base_uri": "https://localhost:8080/"
        },
        "id": "Qm40rmucgBVr",
        "outputId": "0b39aedf-b4f3-42e0-e4c8-e8edab4474df"
      },
      "execution_count": 11,
      "outputs": [
        {
          "output_type": "stream",
          "name": "stdout",
          "text": [
            "No existing customer data found. Starting fresh.\n",
            "Welcome to the Horizon Bank!\n",
            "Enter 1 if you are a new customer.\n",
            "Enter 2 if you are an existing customer.\n",
            "Enter 3 to terminate the application.\n",
            "1\n",
            "Enter name:\n",
            "Shayma\n",
            "Enter address:\n",
            "Kattanam\n",
            "Enter phone num:\n",
            "9475838574\n",
            "Enter govt id:\n",
            "PQ76764\n",
            "Enter amount:\n",
            "700000\n",
            "Create a password for your account:\n",
            "Bank@123\n",
            "Your account has been successfully created! Account Number: 85547. Don't lose it!\n",
            "Customer data saved successfully.\n",
            "Welcome to the Horizon Bank!\n",
            "Enter 1 if you are a new customer.\n",
            "Enter 2 if you are an existing customer.\n",
            "Enter 3 to terminate the application.\n",
            "2\n",
            "Enter your existing account number:\n",
            "85547\n",
            "Enter your password:\n",
            "Bank@123\n",
            "Welcome Shayma!\n",
            "Enter 1 to check your balance.\n",
            "Enter 2 to withdraw an amount.\n",
            "Enter 3 to deposit an amount.\n",
            "Enter 4 to view transaction history.\n",
            "Enter 5 to calculate interest.\n",
            "Enter 6 to close your account.\n",
            "1\n",
            "Available balance: 700000\n",
            "Welcome to the Horizon Bank!\n",
            "Enter 1 if you are a new customer.\n",
            "Enter 2 if you are an existing customer.\n",
            "Enter 3 to terminate the application.\n",
            "3\n",
            "Thank you for banking with us!\n",
            "Customer data saved successfully.\n"
          ]
        }
      ]
    }
  ]
}